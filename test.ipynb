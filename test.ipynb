{
 "cells": [
  {
   "cell_type": "code",
   "execution_count": 1,
   "metadata": {},
   "outputs": [],
   "source": [
    "import numpy as np\n",
    "import pandas as pd\n",
    "from sklearn.metrics import v_measure_score\n",
    "from functions import flatten, pickle_load\n",
    "\n",
    "from process_conllu import ConlluDataset, OneHot\n",
    "from utils import calculate_variation_of_information\n",
    "\n",
    "n_seeds = 5"
   ]
  },
  {
   "cell_type": "code",
   "execution_count": 2,
   "metadata": {},
   "outputs": [
    {
     "name": "stderr",
     "output_type": "stream",
     "text": [
      "/tmp/ipykernel_2779101/2920817522.py:1: ParserWarning: Falling back to the 'python' engine because the 'c' engine does not support regex separators (separators > 1 char and different from '\\s+' are interpreted as regex); you can avoid this warning by specifying engine='python'.\n",
      "  df = pd.read_csv(\"results/k_means_xpos.csv\", delimiter=\", \")\n"
     ]
    },
    {
     "name": "stdout",
     "output_type": "stream",
     "text": [
      "clusters loaded\n",
      "949701\n",
      "949701\n"
     ]
    }
   ],
   "source": [
    "df = pd.read_csv(\"results/k_means_xpos.csv\", delimiter=\", \")\n",
    "print(\"clusters loaded\")\n",
    "\n",
    "dataset: ConlluDataset = pickle_load(\"checkpoints/dataset.pkl\")\n",
    "# set POS type\n",
    "pos_ohe = OneHot(dataset.xpos_set)\n",
    "pos_for_words = flatten(dataset.xpos)\n",
    "print(len(pos_for_words))\n",
    "print(len(df[df[\"seed\"] == 0]))"
   ]
  },
  {
   "cell_type": "code",
   "execution_count": 6,
   "metadata": {},
   "outputs": [
    {
     "name": "stdout",
     "output_type": "stream",
     "text": [
      "pos encoded\n"
     ]
    }
   ],
   "source": [
    "pos_encoded = np.zeros(len(pos_for_words))\n",
    "for i, pos in enumerate(pos_for_words):\n",
    "    pos_encoded[i] = pos_ohe.get_index(pos)\n",
    "print(\"pos encoded\")"
   ]
  },
  {
   "cell_type": "code",
   "execution_count": 8,
   "metadata": {},
   "outputs": [
    {
     "data": {
      "text/plain": [
       "np.float64(0.0)"
      ]
     },
     "execution_count": 8,
     "metadata": {},
     "output_type": "execute_result"
    }
   ],
   "source": [
    "min(pos_encoded)"
   ]
  },
  {
   "cell_type": "code",
   "execution_count": 9,
   "metadata": {},
   "outputs": [
    {
     "data": {
      "text/plain": [
       "word       object\n",
       "seed        int64\n",
       "cluster     int64\n",
       "dtype: object"
      ]
     },
     "execution_count": 9,
     "metadata": {},
     "output_type": "execute_result"
    }
   ],
   "source": [
    "df.dtypes"
   ]
  },
  {
   "cell_type": "code",
   "execution_count": 11,
   "metadata": {},
   "outputs": [
    {
     "data": {
      "text/plain": [
       "np.int64(0)"
      ]
     },
     "execution_count": 11,
     "metadata": {},
     "output_type": "execute_result"
    }
   ],
   "source": [
    "df[\"cluster\"].min()"
   ]
  },
  {
   "cell_type": "code",
   "execution_count": 11,
   "metadata": {},
   "outputs": [
    {
     "data": {
      "text/plain": [
       "array([[6.52838534e-05, 7.76141533e-03, 5.20375611e-03, ...,\n",
       "        2.63242368e-05, 0.00000000e+00, 9.90651362e-02],\n",
       "       [6.52841884e-05, 7.76144594e-03, 5.20378330e-03, ...,\n",
       "        2.63242107e-05, 0.00000000e+00, 9.90628289e-02],\n",
       "       [6.52846542e-05, 7.76152121e-03, 5.20382531e-03, ...,\n",
       "        2.63244643e-05, 0.00000000e+00, 9.90630209e-02],\n",
       "       ...,\n",
       "       [6.52836340e-05, 7.76137285e-03, 5.20373639e-03, ...,\n",
       "        2.63239776e-05, 0.00000000e+00, 9.90739430e-02],\n",
       "       [6.52836420e-05, 7.76137970e-03, 5.20373638e-03, ...,\n",
       "        2.63240504e-05, 0.00000000e+00, 9.90688661e-02],\n",
       "       [6.52804781e-05, 7.76097538e-03, 5.20346997e-03, ...,\n",
       "        2.63228684e-05, 0.00000000e+00, 9.91232175e-02]])"
      ]
     },
     "execution_count": 11,
     "metadata": {},
     "output_type": "execute_result"
    }
   ],
   "source": [
    "from forward_backward_hmm import HMMParameters, seed_matrices\n",
    "\n",
    "\n",
    "parameters: HMMParameters = pickle_load(\"checkpoints/forward_backward_upos/epoch5.pkl\")\n",
    "# parameters: HMMParameters = seed_matrices(10, 10)\n",
    "parameters.emission"
   ]
  },
  {
   "cell_type": "code",
   "execution_count": 12,
   "metadata": {},
   "outputs": [
    {
     "data": {
      "text/plain": [
       "array([0.44744764, 0.02310455, 0.17065498, 0.14166604, 0.21712679])"
      ]
     },
     "execution_count": 12,
     "metadata": {},
     "output_type": "execute_result"
    }
   ],
   "source": [
    "from numeric import log_normalize\n",
    "\n",
    "\n",
    "log_normalize(np.log(np.random.rand(5)),axis=0)"
   ]
  }
 ],
 "metadata": {
  "kernelspec": {
   "display_name": "nlp",
   "language": "python",
   "name": "python3"
  },
  "language_info": {
   "codemirror_mode": {
    "name": "ipython",
    "version": 3
   },
   "file_extension": ".py",
   "mimetype": "text/x-python",
   "name": "python",
   "nbconvert_exporter": "python",
   "pygments_lexer": "ipython3",
   "version": "3.10.15"
  },
  "orig_nbformat": 4
 },
 "nbformat": 4,
 "nbformat_minor": 2
}
