{
 "cells": [
  {
   "cell_type": "markdown",
   "metadata": {},
   "source": [
    "The UPOS field contains a part-of-speech tag from the universal POS tag set, while the XPOS optionally contains a language-specific (or even treebank-specific) part-of-speech / morphological tag"
   ]
  },
  {
   "cell_type": "code",
   "execution_count": 1,
   "metadata": {},
   "outputs": [],
   "source": [
    "import numpy as np\n",
    "import pandas as pd\n",
    "import matplotlib.pyplot as plt\n",
    "from functions import pickle_load\n",
    "from process_conllu import ConlluDataset"
   ]
  },
  {
   "cell_type": "code",
   "execution_count": 2,
   "metadata": {},
   "outputs": [],
   "source": [
    "def merge_word_hidden_pos(viterbi_pos, true_pos, obs_seqs):\n",
    "    merged_pos = []\n",
    "    for seq_idx, (pred_hidden_seq, true_hidden_seq, obs_seq) in enumerate(zip(\n",
    "        viterbi_pos, true_pos, obs_seqs)):\n",
    "        for hidden_state, pos, obs_state in zip(pred_hidden_seq, true_hidden_seq, obs_seq):\n",
    "            merged_pos.append((seq_idx, hidden_state, pos, obs_state))\n",
    "    return pd.DataFrame(merged_pos, columns=[\"sentence\", \"hidden state\", \"pos\", \"token\"])"
   ]
  },
  {
   "cell_type": "code",
   "execution_count": 12,
   "metadata": {},
   "outputs": [],
   "source": [
    "hmm_upos_df = pd.read_csv(\"results/eval_hmm_upos.csv\")\n",
    "hmm_xpos_df = pd.read_csv(\"results/eval_hmm_xpos.csv\")\n",
    "bert_upos_df = pd.read_csv(\"results/eval_bert_upos.csv\")\n",
    "bert_xpos_df = pd.read_csv(\"results/eval_bert_xpos.csv\")\n",
    "dataset: ConlluDataset = pickle_load(\"checkpoints/dataset.pkl\")\n",
    "viterbi_upos: list[list[int]] = pickle_load(\"checkpoints/viterbi_upos.pkl\")\n",
    "viterbi_xpos: list[list[int]] = pickle_load(\"checkpoints/viterbi_xpos.pkl\")"
   ]
  },
  {
   "cell_type": "code",
   "execution_count": 3,
   "metadata": {},
   "outputs": [],
   "source": [
    "dataset: ConlluDataset = pickle_load(\"checkpoints/dataset.pkl\")\n",
    "viterbi_upos: list[list[int]] = pickle_load(\"checkpoints/viterbi_upos.pkl\")"
   ]
  },
  {
   "cell_type": "code",
   "execution_count": 4,
   "metadata": {},
   "outputs": [],
   "source": [
    "viterbi_upos_df = merge_word_hidden_pos(viterbi_upos, dataset.upos, dataset.sequences)\n",
    "# viterbi_xpos_df = merge_word_hidden_pos(viterbi_xpos, dataset.xpos, dataset.sequences)"
   ]
  },
  {
   "cell_type": "code",
   "execution_count": 5,
   "metadata": {},
   "outputs": [
    {
     "data": {
      "text/plain": [
       "hidden state\n",
       "0      40087\n",
       "1      20069\n",
       "2      16881\n",
       "3      32406\n",
       "4     141473\n",
       "5      86618\n",
       "6     162839\n",
       "7      38273\n",
       "8      25998\n",
       "9      38408\n",
       "10     70538\n",
       "11     44780\n",
       "12    105267\n",
       "13     23326\n",
       "14     50313\n",
       "15     16807\n",
       "16     35618\n",
       "Name: hidden state, dtype: int64"
      ]
     },
     "execution_count": 5,
     "metadata": {},
     "output_type": "execute_result"
    }
   ],
   "source": [
    "viterbi_upos_df[\"hidden state\"].groupby(viterbi_upos_df[\"hidden state\"]).size()"
   ]
  },
  {
   "cell_type": "code",
   "execution_count": 6,
   "metadata": {},
   "outputs": [],
   "source": [
    "upos_hidden_state_to_token = viterbi_upos_df[[\"hidden state\", \"token\"]]\\\n",
    "  .groupby(\"token\")\\\n",
    "  .agg(count=(\"token\", \"count\"),\n",
    "       hidden_states=(\"hidden state\", frozenset))\\\n",
    "  .reset_index()"
   ]
  },
  {
   "cell_type": "code",
   "execution_count": 7,
   "metadata": {},
   "outputs": [
    {
     "data": {
      "text/html": [
       "<div>\n",
       "<style scoped>\n",
       "    .dataframe tbody tr th:only-of-type {\n",
       "        vertical-align: middle;\n",
       "    }\n",
       "\n",
       "    .dataframe tbody tr th {\n",
       "        vertical-align: top;\n",
       "    }\n",
       "\n",
       "    .dataframe thead th {\n",
       "        text-align: right;\n",
       "    }\n",
       "</style>\n",
       "<table border=\"1\" class=\"dataframe\">\n",
       "  <thead>\n",
       "    <tr style=\"text-align: right;\">\n",
       "      <th></th>\n",
       "      <th>token</th>\n",
       "      <th>count</th>\n",
       "      <th>hidden_states</th>\n",
       "    </tr>\n",
       "  </thead>\n",
       "  <tbody>\n",
       "    <tr>\n",
       "      <th>19</th>\n",
       "      <td>,</td>\n",
       "      <td>48723</td>\n",
       "      <td>(2, 9, 10, 11, 12)</td>\n",
       "    </tr>\n",
       "    <tr>\n",
       "      <th>30807</th>\n",
       "      <td>the</td>\n",
       "      <td>47975</td>\n",
       "      <td>(0, 9, 4)</td>\n",
       "    </tr>\n",
       "    <tr>\n",
       "      <th>27</th>\n",
       "      <td>.</td>\n",
       "      <td>39020</td>\n",
       "      <td>(9, 12)</td>\n",
       "    </tr>\n",
       "    <tr>\n",
       "      <th>108</th>\n",
       "      <td>[NUM]</td>\n",
       "      <td>23927</td>\n",
       "      <td>(0, 3, 4, 6, 9, 10, 16)</td>\n",
       "    </tr>\n",
       "    <tr>\n",
       "      <th>21245</th>\n",
       "      <td>of</td>\n",
       "      <td>23005</td>\n",
       "      <td>(2, 5, 14)</td>\n",
       "    </tr>\n",
       "    <tr>\n",
       "      <th>31175</th>\n",
       "      <td>to</td>\n",
       "      <td>22352</td>\n",
       "      <td>(9, 13, 11, 5)</td>\n",
       "    </tr>\n",
       "    <tr>\n",
       "      <th>279</th>\n",
       "      <td>a</td>\n",
       "      <td>20149</td>\n",
       "      <td>(0, 4, 5, 8, 9, 11, 13)</td>\n",
       "    </tr>\n",
       "    <tr>\n",
       "      <th>15156</th>\n",
       "      <td>in</td>\n",
       "      <td>16931</td>\n",
       "      <td>(0, 2, 5, 7, 12, 13, 14)</td>\n",
       "    </tr>\n",
       "    <tr>\n",
       "      <th>1383</th>\n",
       "      <td>and</td>\n",
       "      <td>16668</td>\n",
       "      <td>(1, 2, 3, 5, 6, 9, 10, 11, 12, 14, 15)</td>\n",
       "    </tr>\n",
       "    <tr>\n",
       "      <th>15</th>\n",
       "      <td>'s</td>\n",
       "      <td>9326</td>\n",
       "      <td>(9, 10, 11, 5)</td>\n",
       "    </tr>\n",
       "    <tr>\n",
       "      <th>11907</th>\n",
       "      <td>for</td>\n",
       "      <td>8444</td>\n",
       "      <td>(0, 5, 12, 13, 14)</td>\n",
       "    </tr>\n",
       "    <tr>\n",
       "      <th>30801</th>\n",
       "      <td>that</td>\n",
       "      <td>8440</td>\n",
       "      <td>(2, 3, 4, 5, 12, 14, 15, 16)</td>\n",
       "    </tr>\n",
       "    <tr>\n",
       "      <th>1</th>\n",
       "      <td>$</td>\n",
       "      <td>7371</td>\n",
       "      <td>(0)</td>\n",
       "    </tr>\n",
       "    <tr>\n",
       "      <th>16029</th>\n",
       "      <td>is</td>\n",
       "      <td>6970</td>\n",
       "      <td>(1, 2, 5, 11, 12, 13, 14, 15, 16)</td>\n",
       "    </tr>\n",
       "    <tr>\n",
       "      <th>278</th>\n",
       "      <td>``</td>\n",
       "      <td>6967</td>\n",
       "      <td>(3, 4, 8, 9, 10, 11, 12, 13, 15, 16)</td>\n",
       "    </tr>\n",
       "    <tr>\n",
       "      <th>5</th>\n",
       "      <td>''</td>\n",
       "      <td>6787</td>\n",
       "      <td>(1, 5, 6, 10, 12)</td>\n",
       "    </tr>\n",
       "    <tr>\n",
       "      <th>16074</th>\n",
       "      <td>it</td>\n",
       "      <td>5817</td>\n",
       "      <td>(3, 4, 5, 6, 7, 12, 13, 15, 16)</td>\n",
       "    </tr>\n",
       "    <tr>\n",
       "      <th>26626</th>\n",
       "      <td>said</td>\n",
       "      <td>5624</td>\n",
       "      <td>(1, 2, 7, 13, 15)</td>\n",
       "    </tr>\n",
       "    <tr>\n",
       "      <th>21400</th>\n",
       "      <td>on</td>\n",
       "      <td>5369</td>\n",
       "      <td>(2, 5, 7, 9, 12, 14, 16)</td>\n",
       "    </tr>\n",
       "    <tr>\n",
       "      <th>2</th>\n",
       "      <td>%</td>\n",
       "      <td>4942</td>\n",
       "      <td>(9)</td>\n",
       "    </tr>\n",
       "  </tbody>\n",
       "</table>\n",
       "</div>"
      ],
      "text/plain": [
       "       token  count                           hidden_states\n",
       "19         ,  48723                      (2, 9, 10, 11, 12)\n",
       "30807    the  47975                               (0, 9, 4)\n",
       "27         .  39020                                 (9, 12)\n",
       "108    [NUM]  23927                 (0, 3, 4, 6, 9, 10, 16)\n",
       "21245     of  23005                              (2, 5, 14)\n",
       "31175     to  22352                          (9, 13, 11, 5)\n",
       "279        a  20149                 (0, 4, 5, 8, 9, 11, 13)\n",
       "15156     in  16931                (0, 2, 5, 7, 12, 13, 14)\n",
       "1383     and  16668  (1, 2, 3, 5, 6, 9, 10, 11, 12, 14, 15)\n",
       "15        's   9326                          (9, 10, 11, 5)\n",
       "11907    for   8444                      (0, 5, 12, 13, 14)\n",
       "30801   that   8440            (2, 3, 4, 5, 12, 14, 15, 16)\n",
       "1          $   7371                                     (0)\n",
       "16029     is   6970       (1, 2, 5, 11, 12, 13, 14, 15, 16)\n",
       "278       ``   6967    (3, 4, 8, 9, 10, 11, 12, 13, 15, 16)\n",
       "5         ''   6787                       (1, 5, 6, 10, 12)\n",
       "16074     it   5817         (3, 4, 5, 6, 7, 12, 13, 15, 16)\n",
       "26626   said   5624                       (1, 2, 7, 13, 15)\n",
       "21400     on   5369                (2, 5, 7, 9, 12, 14, 16)\n",
       "2          %   4942                                     (9)"
      ]
     },
     "execution_count": 7,
     "metadata": {},
     "output_type": "execute_result"
    }
   ],
   "source": [
    "upos_hidden_state_to_token.sort_values(\"count\", ascending=False).head(20)"
   ]
  },
  {
   "cell_type": "code",
   "execution_count": 8,
   "metadata": {},
   "outputs": [
    {
     "data": {
      "text/plain": [
       "{1, 2, 3, 4, 5, 6, 7, 8, 9, 10, 11, 12, 13, 14}"
      ]
     },
     "execution_count": 8,
     "metadata": {},
     "output_type": "execute_result"
    }
   ],
   "source": [
    "set([len(s) for s in upos_hidden_state_to_token[\"hidden_states\"]])"
   ]
  },
  {
   "cell_type": "code",
   "execution_count": 5,
   "metadata": {},
   "outputs": [
    {
     "data": {
      "text/plain": [
       "hidden state\n",
       "6     663367\n",
       "10     48723\n",
       "30     39020\n",
       "40    104502\n",
       "44     94089\n",
       "Name: hidden state, dtype: int64"
      ]
     },
     "execution_count": 5,
     "metadata": {},
     "output_type": "execute_result"
    }
   ],
   "source": [
    "viterbi_xpos_df[\"hidden state\"].groupby(viterbi_xpos_df[\"hidden state\"]).size()"
   ]
  },
  {
   "cell_type": "code",
   "execution_count": 6,
   "metadata": {},
   "outputs": [],
   "source": [
    "xpos_hidden_state_to_token = viterbi_xpos_df[[\"hidden state\", \"token\"]]\\\n",
    "  .groupby(\"token\")\\\n",
    "  .agg(count=(\"token\", \"count\"),\n",
    "       hidden_states=(\"hidden state\", frozenset))\\\n",
    "  .reset_index()"
   ]
  },
  {
   "cell_type": "code",
   "execution_count": 7,
   "metadata": {},
   "outputs": [
    {
     "data": {
      "text/html": [
       "<div>\n",
       "<style scoped>\n",
       "    .dataframe tbody tr th:only-of-type {\n",
       "        vertical-align: middle;\n",
       "    }\n",
       "\n",
       "    .dataframe tbody tr th {\n",
       "        vertical-align: top;\n",
       "    }\n",
       "\n",
       "    .dataframe thead th {\n",
       "        text-align: right;\n",
       "    }\n",
       "</style>\n",
       "<table border=\"1\" class=\"dataframe\">\n",
       "  <thead>\n",
       "    <tr style=\"text-align: right;\">\n",
       "      <th></th>\n",
       "      <th>token</th>\n",
       "      <th>count</th>\n",
       "      <th>hidden_states</th>\n",
       "    </tr>\n",
       "  </thead>\n",
       "  <tbody>\n",
       "    <tr>\n",
       "      <th>19</th>\n",
       "      <td>,</td>\n",
       "      <td>48723</td>\n",
       "      <td>(10)</td>\n",
       "    </tr>\n",
       "    <tr>\n",
       "      <th>30807</th>\n",
       "      <td>the</td>\n",
       "      <td>47975</td>\n",
       "      <td>(40)</td>\n",
       "    </tr>\n",
       "    <tr>\n",
       "      <th>27</th>\n",
       "      <td>.</td>\n",
       "      <td>39020</td>\n",
       "      <td>(30)</td>\n",
       "    </tr>\n",
       "    <tr>\n",
       "      <th>108</th>\n",
       "      <td>[NUM]</td>\n",
       "      <td>23927</td>\n",
       "      <td>(6)</td>\n",
       "    </tr>\n",
       "    <tr>\n",
       "      <th>21245</th>\n",
       "      <td>of</td>\n",
       "      <td>23005</td>\n",
       "      <td>(6)</td>\n",
       "    </tr>\n",
       "    <tr>\n",
       "      <th>31175</th>\n",
       "      <td>to</td>\n",
       "      <td>22352</td>\n",
       "      <td>(6)</td>\n",
       "    </tr>\n",
       "    <tr>\n",
       "      <th>279</th>\n",
       "      <td>a</td>\n",
       "      <td>20149</td>\n",
       "      <td>(6)</td>\n",
       "    </tr>\n",
       "    <tr>\n",
       "      <th>15156</th>\n",
       "      <td>in</td>\n",
       "      <td>16931</td>\n",
       "      <td>(6)</td>\n",
       "    </tr>\n",
       "    <tr>\n",
       "      <th>1383</th>\n",
       "      <td>and</td>\n",
       "      <td>16668</td>\n",
       "      <td>(6)</td>\n",
       "    </tr>\n",
       "    <tr>\n",
       "      <th>15</th>\n",
       "      <td>'s</td>\n",
       "      <td>9326</td>\n",
       "      <td>(6)</td>\n",
       "    </tr>\n",
       "    <tr>\n",
       "      <th>11907</th>\n",
       "      <td>for</td>\n",
       "      <td>8444</td>\n",
       "      <td>(6)</td>\n",
       "    </tr>\n",
       "    <tr>\n",
       "      <th>30801</th>\n",
       "      <td>that</td>\n",
       "      <td>8440</td>\n",
       "      <td>(6)</td>\n",
       "    </tr>\n",
       "    <tr>\n",
       "      <th>1</th>\n",
       "      <td>$</td>\n",
       "      <td>7371</td>\n",
       "      <td>(6)</td>\n",
       "    </tr>\n",
       "    <tr>\n",
       "      <th>16029</th>\n",
       "      <td>is</td>\n",
       "      <td>6970</td>\n",
       "      <td>(6)</td>\n",
       "    </tr>\n",
       "    <tr>\n",
       "      <th>278</th>\n",
       "      <td>``</td>\n",
       "      <td>6967</td>\n",
       "      <td>(40)</td>\n",
       "    </tr>\n",
       "    <tr>\n",
       "      <th>5</th>\n",
       "      <td>''</td>\n",
       "      <td>6787</td>\n",
       "      <td>(6)</td>\n",
       "    </tr>\n",
       "    <tr>\n",
       "      <th>16074</th>\n",
       "      <td>it</td>\n",
       "      <td>5817</td>\n",
       "      <td>(40, 6)</td>\n",
       "    </tr>\n",
       "    <tr>\n",
       "      <th>26626</th>\n",
       "      <td>said</td>\n",
       "      <td>5624</td>\n",
       "      <td>(6)</td>\n",
       "    </tr>\n",
       "    <tr>\n",
       "      <th>21400</th>\n",
       "      <td>on</td>\n",
       "      <td>5369</td>\n",
       "      <td>(6)</td>\n",
       "    </tr>\n",
       "    <tr>\n",
       "      <th>2</th>\n",
       "      <td>%</td>\n",
       "      <td>4942</td>\n",
       "      <td>(6)</td>\n",
       "    </tr>\n",
       "  </tbody>\n",
       "</table>\n",
       "</div>"
      ],
      "text/plain": [
       "       token  count hidden_states\n",
       "19         ,  48723          (10)\n",
       "30807    the  47975          (40)\n",
       "27         .  39020          (30)\n",
       "108    [NUM]  23927           (6)\n",
       "21245     of  23005           (6)\n",
       "31175     to  22352           (6)\n",
       "279        a  20149           (6)\n",
       "15156     in  16931           (6)\n",
       "1383     and  16668           (6)\n",
       "15        's   9326           (6)\n",
       "11907    for   8444           (6)\n",
       "30801   that   8440           (6)\n",
       "1          $   7371           (6)\n",
       "16029     is   6970           (6)\n",
       "278       ``   6967          (40)\n",
       "5         ''   6787           (6)\n",
       "16074     it   5817       (40, 6)\n",
       "26626   said   5624           (6)\n",
       "21400     on   5369           (6)\n",
       "2          %   4942           (6)"
      ]
     },
     "execution_count": 7,
     "metadata": {},
     "output_type": "execute_result"
    }
   ],
   "source": [
    "xpos_hidden_state_to_token.sort_values(\"count\", ascending=False).head(20)"
   ]
  },
  {
   "cell_type": "code",
   "execution_count": 26,
   "metadata": {},
   "outputs": [
    {
     "data": {
      "text/plain": [
       "{1, 2}"
      ]
     },
     "execution_count": 26,
     "metadata": {},
     "output_type": "execute_result"
    }
   ],
   "source": [
    "set([len(s) for s in xpos_hidden_state_to_token[\"hidden_states\"]])"
   ]
  },
  {
   "cell_type": "code",
   "execution_count": 9,
   "metadata": {},
   "outputs": [
    {
     "data": {
      "text/plain": [
       "24       (40, 6)\n",
       "303      (40, 6)\n",
       "426      (40, 6)\n",
       "636      (40, 6)\n",
       "724      (40, 6)\n",
       "          ...   \n",
       "33631    (40, 6)\n",
       "33910    (40, 6)\n",
       "34230    (40, 6)\n",
       "34241    (40, 6)\n",
       "34270    (40, 6)\n",
       "Name: hidden_states, Length: 191, dtype: object"
      ]
     },
     "execution_count": 9,
     "metadata": {},
     "output_type": "execute_result"
    }
   ],
   "source": [
    "xpos_hidden_state_to_token[np.array([len(s) for s in xpos_hidden_state_to_token[\"hidden_states\"]]) == 2][\"hidden_states\"]"
   ]
  },
  {
   "cell_type": "code",
   "execution_count": 10,
   "metadata": {},
   "outputs": [
    {
     "data": {
      "text/plain": [
       "hidden_states\n",
       "(40, 6)    191\n",
       "Name: hidden_states, dtype: int64"
      ]
     },
     "execution_count": 10,
     "metadata": {},
     "output_type": "execute_result"
    }
   ],
   "source": [
    "s = xpos_hidden_state_to_token[np.array([len(s) for s in xpos_hidden_state_to_token[\"hidden_states\"]]) == 2][\"hidden_states\"]\n",
    "s.groupby(s).size()"
   ]
  }
 ],
 "metadata": {
  "kernelspec": {
   "display_name": "nlp",
   "language": "python",
   "name": "python3"
  },
  "language_info": {
   "codemirror_mode": {
    "name": "ipython",
    "version": 3
   },
   "file_extension": ".py",
   "mimetype": "text/x-python",
   "name": "python",
   "nbconvert_exporter": "python",
   "pygments_lexer": "ipython3",
   "version": "3.10.0"
  },
  "orig_nbformat": 4
 },
 "nbformat": 4,
 "nbformat_minor": 2
}
